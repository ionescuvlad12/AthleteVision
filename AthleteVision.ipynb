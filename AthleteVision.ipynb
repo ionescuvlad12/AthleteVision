{
  "nbformat": 4,
  "nbformat_minor": 0,
  "metadata": {
    "colab": {
      "name": "AthleteVision.ipynb",
      "provenance": [],
      "collapsed_sections": [],
      "authorship_tag": "ABX9TyP4Mp94qM1wxBiB+uxgHhqf",
      "include_colab_link": true
    },
    "kernelspec": {
      "name": "python3",
      "display_name": "Python 3"
    }
  },
  "cells": [
    {
      "cell_type": "markdown",
      "metadata": {
        "id": "view-in-github",
        "colab_type": "text"
      },
      "source": [
        "<a href=\"https://colab.research.google.com/github/ionescuvlad12/AthleteVision/blob/master/AthleteVision.ipynb\" target=\"_parent\"><img src=\"https://colab.research.google.com/assets/colab-badge.svg\" alt=\"Open In Colab\"/></a>"
      ]
    },
    {
      "cell_type": "code",
      "metadata": {
        "id": "Gr1TWNKLgSqO",
        "colab_type": "code",
        "colab": {}
      },
      "source": [
        "import os\n",
        "print(os.getcwd())"
      ],
      "execution_count": null,
      "outputs": []
    }
  ]
}